{
 "cells": [
  {
   "cell_type": "code",
   "execution_count": 15,
   "id": "05f4016c",
   "metadata": {},
   "outputs": [],
   "source": [
    "#import necessary libraries\n",
    "import pandas as pd\n",
    "import numpy as np\n",
    "from scipy.stats import ttest_ind\n",
    "import matplotlib.pyplot as plt\n"
   ]
  },
  {
   "cell_type": "code",
   "execution_count": 8,
   "id": "a5b91b13",
   "metadata": {},
   "outputs": [
    {
     "name": "stderr",
     "output_type": "stream",
     "text": [
      "C:\\Users\\ADMIN\\AppData\\Local\\Temp\\ipykernel_7524\\2115496660.py:2: DtypeWarning: Columns (19) have mixed types. Specify dtype option on import or set low_memory=False.\n",
      "  df = pd.read_csv(r\"C:\\Users\\ADMIN\\Downloads\\all_combined.csv\")\n"
     ]
    }
   ],
   "source": [
    "# load csv file\n",
    "df = pd.read_csv(r\"C:\\Users\\ADMIN\\Downloads\\all_combined.csv\")"
   ]
  },
  {
   "cell_type": "code",
   "execution_count": 16,
   "id": "369dbeaf",
   "metadata": {},
   "outputs": [
    {
     "name": "stderr",
     "output_type": "stream",
     "text": [
      "<>:2: SyntaxWarning: invalid escape sequence '\\$'\n",
      "<>:3: SyntaxWarning: invalid escape sequence '\\$'\n",
      "<>:2: SyntaxWarning: invalid escape sequence '\\$'\n",
      "<>:3: SyntaxWarning: invalid escape sequence '\\$'\n",
      "C:\\Users\\ADMIN\\AppData\\Local\\Temp\\ipykernel_7524\\1666036202.py:2: SyntaxWarning: invalid escape sequence '\\$'\n",
      "  df['foreign_gross'] = pd.to_numeric(df['foreign_gross'].replace('[\\$,]', '', regex=True), errors='coerce')\n",
      "C:\\Users\\ADMIN\\AppData\\Local\\Temp\\ipykernel_7524\\1666036202.py:3: SyntaxWarning: invalid escape sequence '\\$'\n",
      "  df['domestic_gross_y'] = pd.to_numeric(df['domestic_gross_y'].replace('[\\$,]', '', regex=True), errors='coerce')\n"
     ]
    }
   ],
   "source": [
    "#Clean the numeric columns\n",
    "df['foreign_gross'] = pd.to_numeric(df['foreign_gross'].replace('[\\$,]', '', regex=True), errors='coerce')\n",
    "df['domestic_gross_y'] = pd.to_numeric(df['domestic_gross_y'].replace('[\\$,]', '', regex=True), errors='coerce')\n",
    "\n"
   ]
  },
  {
   "cell_type": "code",
   "execution_count": 17,
   "id": "7aabbc8e",
   "metadata": {},
   "outputs": [],
   "source": [
    "# Define groups based on rating\n",
    "high_rating = df[df['vote_average'] > 7]\n",
    "low_rating = df[df['vote_average'] <= 7]\n"
   ]
  },
  {
   "cell_type": "code",
   "execution_count": 18,
   "id": "046bb28f",
   "metadata": {},
   "outputs": [],
   "source": [
    "# Drop missing values for revenue\n",
    "high_revenue = high_rating['worldwide_gross'].dropna()\n",
    "low_revenue = low_rating['worldwide_gross'].dropna()\n",
    "\n"
   ]
  },
  {
   "cell_type": "code",
   "execution_count": 19,
   "id": "862ac9c7",
   "metadata": {},
   "outputs": [],
   "source": [
    "# Run t-test\n",
    "t_stat, p_value = ttest_ind(high_revenue, low_revenue, equal_var=False)\n"
   ]
  },
  {
   "cell_type": "code",
   "execution_count": 20,
   "id": "d37c1768",
   "metadata": {},
   "outputs": [
    {
     "name": "stdout",
     "output_type": "stream",
     "text": [
      "=== Hypothesis Test: High vs Low Rated Movies ===\n",
      "Mean Revenue (High Rating > 7): $264,952,511.49\n",
      "Mean Revenue (Low Rating ≤ 7): $154,211,163.89\n",
      "T-statistic: 5.23\n",
      "P-value: 0.00000\n"
     ]
    }
   ],
   "source": [
    "# Print results\n",
    "print(\"=== Hypothesis Test: High vs Low Rated Movies ===\")\n",
    "print(f\"Mean Revenue (High Rating > 7): ${high_revenue.mean():,.2f}\")\n",
    "print(f\"Mean Revenue (Low Rating ≤ 7): ${low_revenue.mean():,.2f}\")\n",
    "print(f\"T-statistic: {t_stat:.2f}\")\n",
    "print(f\"P-value: {p_value:.5f}\")\n"
   ]
  },
  {
   "cell_type": "code",
   "execution_count": 21,
   "id": "2497956c",
   "metadata": {},
   "outputs": [
    {
     "data": {
      "image/png": "[encoded data removed]",
      "text/plain": [
       "<Figure size 800x500 with 1 Axes>"
      ]
     },
     "metadata": {},
     "output_type": "display_data"
    }
   ],
   "source": [
    "#Plot the comparison\n",
    "plt.figure(figsize=(8, 5))\n",
    "plt.bar(['High Rated', 'Low Rated'], [high_revenue.mean(), low_revenue.mean()], color=['green', 'red'])\n",
    "plt.title('Average Revenue: High vs Low Rated Movies')\n",
    "plt.ylabel('Revenue ($)')\n",
    "plt.tight_layout()\n",
    "plt.show()"
   ]
  },
  {
   "cell_type": "code",
   "execution_count": 4,
   "id": "de91c59f",
   "metadata": {},
   "outputs": [
    {
     "name": "stdout",
     "output_type": "stream",
     "text": [
      "Requirement already satisfied: pandas in c:\\users\\admin\\anaconda3\\lib\\site-packages (2.2.2)Note: you may need to restart the kernel to use updated packages.\n",
      "\n",
      "Requirement already satisfied: matplotlib in c:\\users\\admin\\anaconda3\\lib\\site-packages (3.9.2)\n",
      "Requirement already satisfied: scipy in c:\\users\\admin\\anaconda3\\lib\\site-packages (1.13.1)\n",
      "Requirement already satisfied: numpy>=1.26.0 in c:\\users\\admin\\anaconda3\\lib\\site-packages (from pandas) (1.26.4)\n",
      "Requirement already satisfied: python-dateutil>=2.8.2 in c:\\users\\admin\\anaconda3\\lib\\site-packages (from pandas) (2.9.0.post0)\n",
      "Requirement already satisfied: pytz>=2020.1 in c:\\users\\admin\\anaconda3\\lib\\site-packages (from pandas) (2024.1)\n",
      "Requirement already satisfied: tzdata>=2022.7 in c:\\users\\admin\\anaconda3\\lib\\site-packages (from pandas) (2023.3)\n",
      "Requirement already satisfied: contourpy>=1.0.1 in c:\\users\\admin\\anaconda3\\lib\\site-packages (from matplotlib) (1.2.0)\n",
      "Requirement already satisfied: cycler>=0.10 in c:\\users\\admin\\anaconda3\\lib\\site-packages (from matplotlib) (0.11.0)\n",
      "Requirement already satisfied: fonttools>=4.22.0 in c:\\users\\admin\\anaconda3\\lib\\site-packages (from matplotlib) (4.51.0)\n",
      "Requirement already satisfied: kiwisolver>=1.3.1 in c:\\users\\admin\\anaconda3\\lib\\site-packages (from matplotlib) (1.4.4)\n",
      "Requirement already satisfied: packaging>=20.0 in c:\\users\\admin\\anaconda3\\lib\\site-packages (from matplotlib) (24.1)\n",
      "Requirement already satisfied: pillow>=8 in c:\\users\\admin\\anaconda3\\lib\\site-packages (from matplotlib) (10.4.0)\n",
      "Requirement already satisfied: pyparsing>=2.3.1 in c:\\users\\admin\\anaconda3\\lib\\site-packages (from matplotlib) (3.1.2)\n",
      "Requirement already satisfied: six>=1.5 in c:\\users\\admin\\anaconda3\\lib\\site-packages (from python-dateutil>=2.8.2->pandas) (1.16.0)\n"
     ]
    }
   ],
   "source": [
    "pip install pandas matplotlib scipy"
   ]
  }
 ],
 "metadata": {
  "kernelspec": {
   "display_name": "base",
   "language": "python",
   "name": "python3"
  },
  "language_info": {
   "codemirror_mode": {
    "name": "ipython",
    "version": 3
   },
   "file_extension": ".py",
   "mimetype": "text/x-python",
   "name": "python",
   "nbconvert_exporter": "python",
   "pygments_lexer": "ipython3",
   "version": "3.12.7"
  }
 },
 "nbformat": 4,
 "nbformat_minor": 5
}
